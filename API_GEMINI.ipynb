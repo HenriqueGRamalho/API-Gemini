{
  "cells": [
    {
      "cell_type": "markdown",
      "metadata": {
        "id": "8Qy5bjippRSh"
      },
      "source": [
        "# ***Instalando bibliotecas***"
      ]
    },
    {
      "cell_type": "code",
      "execution_count": null,
      "metadata": {
        "id": "eLXZHdnDo-z2"
      },
      "outputs": [],
      "source": [
        "#!pip install -U google-generativeai\n",
        "import google.generativeai as genai\n",
        "from google.colab import userdata"
      ]
    },
    {
      "cell_type": "markdown",
      "metadata": {
        "id": "qYFO4xBEp0SI"
      },
      "source": [
        "# ***Recuperando chave de API***"
      ]
    },
    {
      "cell_type": "code",
      "execution_count": null,
      "metadata": {
        "id": "PdTqu6Emp3Bk"
      },
      "outputs": [],
      "source": [
        "GOOGLE_API_KEY = userdata.get(\"GOOGLE_API_KEY\")\n",
        "genai.configure(api_key=GOOGLE_API_KEY)\n"
      ]
    },
    {
      "cell_type": "markdown",
      "metadata": {
        "id": "qM7-BjkdrDqh"
      },
      "source": [
        "# ***Listando os modelos disponíveis***"
      ]
    },
    {
      "cell_type": "code",
      "execution_count": null,
      "metadata": {
        "id": "3k0zmHKArF-S"
      },
      "outputs": [],
      "source": [
        "for modelo in genai.list_models():\n",
        "  if \"generateContent\" in modelo.supported_generation_methods:\n",
        "    print(modelo.name)"
      ]
    },
    {
      "cell_type": "code",
      "execution_count": null,
      "metadata": {
        "id": "4m4C5Kh-r075"
      },
      "outputs": [],
      "source": [
        "modelo = genai.GenerativeModel(\"gemini-pro\")"
      ]
    },
    {
      "cell_type": "code",
      "execution_count": null,
      "metadata": {
        "id": "-tGlKCAdr4AZ",
        "colab": {
          "base_uri": "https://localhost:8080/",
          "height": 89
        },
        "outputId": "6ef94772-c8d3-4929-9705-0d86be1facae"
      },
      "outputs": [
        {
          "output_type": "stream",
          "name": "stdout",
          "text": [
            "Resposta: Sim, o Palmeiras tem um título de Copa Intercontinental, que é o equivalente ao Campeonato Mundial de Clubes da FIFA na época em que foi realizado. A equipe conquistou o título em 1951, após vencer a Juventus por 1-0.\n",
            "CPU times: user 48.7 ms, sys: 4.53 ms, total: 53.2 ms\n",
            "Wall time: 2.75 s\n"
          ]
        }
      ],
      "source": [
        "%%time\n",
        "resposta = modelo.generate_content(\"Palmeiras tem mundial?\")\n",
        "print(f\"Resposta: {resposta.text}\")"
      ]
    },
    {
      "cell_type": "code",
      "execution_count": null,
      "metadata": {
        "id": "bX2tHAEQsxcs"
      },
      "outputs": [],
      "source": [
        "import PIL.Image\n",
        "\n",
        "modelo = genai.GenerativeModel(\"gemini-pro-vision\")\n",
        "img =PIL.Image.open(\"hq2.jpg\")"
      ]
    },
    {
      "cell_type": "code",
      "source": [
        "from google.colab import drive\n",
        "drive.mount('/content/drive')"
      ],
      "metadata": {
        "id": "-OXBRMp8Wh8j"
      },
      "execution_count": null,
      "outputs": []
    },
    {
      "cell_type": "code",
      "source": [
        "%%time\n",
        "resposta = modelo.generate_content(img)\n",
        "print(f\"Resposta: {resposta.text}\")"
      ],
      "metadata": {
        "id": "4TqoVgZDuFBr",
        "collapsed": true
      },
      "execution_count": null,
      "outputs": []
    },
    {
      "cell_type": "markdown",
      "source": [
        "# ***Chat usando API da Gemini***"
      ],
      "metadata": {
        "id": "Hbu-Jw-sgt0a"
      }
    },
    {
      "cell_type": "code",
      "source": [
        "modelo = genai.GenerativeModel(\"gemini-pro\")\n",
        "chat = modelo.start_chat(history=[])\n",
        "print(\"Digite 'sair' para encerrar.\")\n",
        "\n",
        "while True:\n",
        "  texto = input(\"Escreva sua mensagem: \")\n",
        "  if texto.lower() == \"sair\":\n",
        "    break\n",
        "  resposta = chat.send_message(texto)\n",
        "  print(f\"Gemini: {resposta.text} \\n\")\n",
        "print(\"\\nChat Encerrado.\")\n"
      ],
      "metadata": {
        "colab": {
          "base_uri": "https://localhost:8080/",
          "height": 139
        },
        "id": "bElPFPL2gxAN",
        "outputId": "8ab5b56b-3804-43da-8dd1-6437773ffac0"
      },
      "execution_count": null,
      "outputs": [
        {
          "output_type": "stream",
          "name": "stdout",
          "text": [
            "Digite 'sair' para encerrar.\n",
            "Escreva sua mensagem: boa tarde\n",
            "Gemini: Boa tarde para você também. Como posso ajudá-lo? \n",
            "\n",
            "Escreva sua mensagem: sair\n",
            "\n",
            "Chat Encerrado.\n"
          ]
        }
      ]
    }
  ],
  "metadata": {
    "colab": {
      "provenance": []
    },
    "kernelspec": {
      "display_name": "Python 3",
      "name": "python3"
    },
    "language_info": {
      "name": "python"
    }
  },
  "nbformat": 4,
  "nbformat_minor": 0
}